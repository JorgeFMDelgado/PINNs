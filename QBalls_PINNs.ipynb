{
 "cells": [
  {
   "cell_type": "markdown",
   "metadata": {},
   "source": [
    "# Static Q-Balls\n",
    "#### Computation with FastAI\n",
    "\n",
    "Self-gravitating complex scalar field in flat spacetime with a self-interacting potential, $U(\\Psi) = \\lambda \\left( \\Psi^6 - a \\Psi^4 + b \\Psi^2 \\right)$.\n",
    "\n",
    "*Ansatz*: $\\Psi = f(r)e^{i \\omega t}$\n",
    "\n",
    "*Equation of Motion*: $$f'' + \\dfrac{2}{r} f' + \\omega^2 f - \\lambda \\left( 6 f^5 - 4 a f^3 + 2 b f \\right) = 0 ~,$$ with $f'(0) = 0$ and $f(\\infty) = 0$.\n",
    "\n",
    "*Equation of Motion in compactified coordinate*: $$(1-x)^4 \\left( \\dfrac{d^2 f}{dx^2} - \\dfrac{2}{x} \\dfrac{df}{dx} \\right) + \\omega^2 f - \\lambda \\left( 6 f^5 - 4 a f^3 + 2 b f \\right) = 0 ~,$$ with $f'(0) = 0$ and $f(1) = 0$.\n",
    "\n",
    "*Contants of the problem*: $\\lambda = 1~,~~a = 2~,~~b = 1.1$"
   ]
  },
  {
   "cell_type": "markdown",
   "metadata": {},
   "source": [
    "##### Import packages"
   ]
  },
  {
   "cell_type": "code",
   "execution_count": 79,
   "metadata": {},
   "outputs": [],
   "source": [
    "import torch as torch\n",
    "import torch.utils.data as D\n",
    "import torch.nn as nn\n",
    "import torch.nn.functional as F\n",
    "import numpy as np\n",
    "import matplotlib.pyplot as plt"
   ]
  },
  {
   "cell_type": "markdown",
   "metadata": {},
   "source": [
    "##### Select device"
   ]
  },
  {
   "cell_type": "code",
   "execution_count": 145,
   "metadata": {},
   "outputs": [
    {
     "data": {
      "text/plain": [
       "device(type='mps')"
      ]
     },
     "execution_count": 145,
     "metadata": {},
     "output_type": "execute_result"
    }
   ],
   "source": [
    "device = torch.device('mps') if torch.backends.mps.is_available() else torch.device('cpu')\n",
    "device"
   ]
  },
  {
   "cell_type": "markdown",
   "metadata": {},
   "source": [
    "### Configuration of the problem"
   ]
  },
  {
   "cell_type": "code",
   "execution_count": 165,
   "metadata": {},
   "outputs": [],
   "source": [
    "# contants of the problem\n",
    "lmbd = 1\n",
    "a = 2\n",
    "b = 1.1\n",
    "w = 0.9\n",
    "\n",
    "# Number of radial points\n",
    "nPoints = 10000\n",
    "\n",
    "# Number of validation points\n",
    "nValid = 2000\n",
    "\n",
    "# Number of training points\n",
    "nTrain = nPoints-nValid"
   ]
  },
  {
   "cell_type": "markdown",
   "metadata": {},
   "source": [
    "### Preparation of dataset and dataloaders"
   ]
  },
  {
   "cell_type": "code",
   "execution_count": 166,
   "metadata": {},
   "outputs": [],
   "source": [
    "# Independent variable\n",
    "x_data = torch.rand(nPoints,device=device).view(-1,1)\n",
    "\n",
    "# Targets\n",
    "# Since we define our loss as the equation of motion, the targets are all zeros\n",
    "f_data = torch.zeros_like(x_data)"
   ]
  },
  {
   "cell_type": "code",
   "execution_count": 167,
   "metadata": {},
   "outputs": [],
   "source": [
    "# Dataset with all data\n",
    "dset_data = D.TensorDataset(x_data,f_data)"
   ]
  },
  {
   "cell_type": "code",
   "execution_count": 168,
   "metadata": {},
   "outputs": [],
   "source": [
    "# Random Split of the dataset with all data into two for training and validation\n",
    "dset_train, dset_valid = D.random_split(dset_data,[nTrain,nValid])"
   ]
  },
  {
   "cell_type": "code",
   "execution_count": 169,
   "metadata": {},
   "outputs": [],
   "source": [
    "# Initializing the dataloaders for the train and valid sets\n",
    "dl_train = D.DataLoader(dset_train,batch_size=100,shuffle=True)\n",
    "dl_valid = D.DataLoader(dset_valid,batch_size=100,shuffle=False)"
   ]
  },
  {
   "cell_type": "markdown",
   "metadata": {},
   "source": [
    "### Model"
   ]
  },
  {
   "cell_type": "code",
   "execution_count": 170,
   "metadata": {},
   "outputs": [],
   "source": [
    "class Simple_net(torch.nn.Module):\n",
    "  def __init__(self):\n",
    "    super(Simple_net,self).__init__()\n",
    "    self.fc1 = nn.Linear(1,100)\n",
    "    self.fc2 = nn.Linear(100,500)\n",
    "    self.fc3 = nn.Linear(500,1000)\n",
    "    self.fc4 = nn.Linear(1000,1)\n",
    "\n",
    "  def forward(self,x):\n",
    "    x = F.gelu(self.fc1(x))\n",
    "    x = F.gelu(self.fc2(x))\n",
    "    x = F.gelu(self.fc3(x))\n",
    "    x = self.fc4(x)\n",
    "    return x\n",
    "\n",
    "  def reset_weights(self):\n",
    "    torch.nn.init.kaiming_uniform_(self.fc1.weight)\n",
    "    torch.nn.init.kaiming_uniform_(self.fc2.weight)\n",
    "    torch.nn.init.kaiming_uniform_(self.fc3.weight)\n",
    "    torch.nn.init.kaiming_uniform_(self.fc4.weight)"
   ]
  },
  {
   "cell_type": "code",
   "execution_count": 171,
   "metadata": {},
   "outputs": [
    {
     "data": {
      "text/plain": [
       "Simple_net(\n",
       "  (fc1): Linear(in_features=1, out_features=100, bias=True)\n",
       "  (fc2): Linear(in_features=100, out_features=500, bias=True)\n",
       "  (fc3): Linear(in_features=500, out_features=1000, bias=True)\n",
       "  (fc4): Linear(in_features=1000, out_features=1, bias=True)\n",
       ")"
      ]
     },
     "execution_count": 171,
     "metadata": {},
     "output_type": "execute_result"
    }
   ],
   "source": [
    "model = Simple_net()\n",
    "model.to(device)"
   ]
  },
  {
   "cell_type": "markdown",
   "metadata": {},
   "source": [
    "### Loss Function"
   ]
  },
  {
   "cell_type": "code",
   "execution_count": 172,
   "metadata": {},
   "outputs": [],
   "source": [
    "def mse_loss_ode(model,x_inp,targets):\n",
    "  y_out = model(x_inp)\n",
    "\n",
    "  dy_out = torch.autograd.grad(y_out,x_inp,grad_outputs=torch.ones_like(y_out),create_graph=True, allow_unused=True)[0]\n",
    "  ddy_out = torch.autograd.grad(dy_out,x_inp,grad_outputs=torch.ones_like(dy_out),create_graph=True, allow_unused=True)[0]\n",
    "\n",
    "  # Equation of motion: (1-x^4)*(d^2f/dx^2 + 2/x*df/dx) + w^2*f - lmbd*(6*f**5 - 4*a*f**3 + 2*b*f) = 0\n",
    "  ODE = (1-x_inp**4)*(ddy_out + 2/x_inp*dy_out) + w**2*y_out - lmbd*(6*y_out**5 - 4*a*y_out**3 + 2*b*y_out)\n",
    "  \n",
    "  # Boundary condition f'(0) = 0\n",
    "  x_Boundary_0 = torch.tensor([0.0001],device=device)\n",
    "  x_Boundary_0.requires_grad = True\n",
    "  y_Boundary_0 = model(x_Boundary_0)\n",
    "  dy_Boundary_0 = torch.autograd.grad(y_Boundary_0,x_Boundary_0,grad_outputs=torch.ones_like(y_Boundary_0),create_graph=True, allow_unused=True)[0]\n",
    "  BC1 = dy_Boundary_0\n",
    "  \n",
    "  # Boundary condition f(1) = 0\n",
    "  x_Boundary_1 = torch.tensor([1.],device=device)\n",
    "  y_Boundary_1 = model(x_Boundary_1)\n",
    "  BC2 = y_Boundary_1\n",
    "  \n",
    "  # Full loss function\n",
    "  CoefBoundary = 1000\n",
    "  LossFunction = ODE + CoefBoundary*(BC1 + BC2)\n",
    "  \n",
    "  # Computation of the loss\n",
    "  loss = F.mse_loss(LossFunction,targets)\n",
    "\n",
    "  return loss"
   ]
  },
  {
   "cell_type": "markdown",
   "metadata": {},
   "source": [
    "### Optimizer"
   ]
  },
  {
   "cell_type": "code",
   "execution_count": 173,
   "metadata": {},
   "outputs": [],
   "source": [
    "opt_func = torch.optim.Adam(model.parameters())\n",
    "gamma_batches = 10**(6/len(dl_train))  # Optimal gamma value for the Scheduler that will be use on the LRFinder\n",
    "scheduler = torch.optim.lr_scheduler.ExponentialLR(opt_func, gamma=gamma_batches)"
   ]
  },
  {
   "cell_type": "markdown",
   "metadata": {},
   "source": [
    "### Learning Rate Finder"
   ]
  },
  {
   "cell_type": "code",
   "execution_count": 174,
   "metadata": {},
   "outputs": [],
   "source": [
    "losses, lrs = [],[]\n",
    "opt_func.param_groups[0]['lr'] = 1e-6\n",
    "\n",
    "model.train()\n",
    "for inputs, labels in dl_train:\n",
    "  inputs = inputs.to(device)\n",
    "  labels = labels.to(device)\n",
    "\n",
    "  inputs.requires_grad = True\n",
    "\n",
    "  opt_func.zero_grad()\n",
    "\n",
    "  outputs = model(inputs)\n",
    "  loss = mse_loss_ode(model,inputs,labels)\n",
    "  loss.backward()\n",
    "  opt_func.step()\n",
    "\n",
    "  losses.append(loss.item())\n",
    "\n",
    "  #opt_func.param_groups[0]['lr'] *= 1.2\n",
    "  scheduler.step()\n",
    "  lrs.append(opt_func.param_groups[0]['lr'])\n",
    "\n",
    "  if opt_func.param_groups[0]['lr']>1 or torch.isnan(loss): break\n",
    "\n",
    "model.reset_weights()"
   ]
  },
  {
   "cell_type": "code",
   "execution_count": 175,
   "metadata": {},
   "outputs": [
    {
     "data": {
      "image/png": "[encoded data removed]",
      "text/plain": [
       "<Figure size 640x480 with 1 Axes>"
      ]
     },
     "metadata": {},
     "output_type": "display_data"
    }
   ],
   "source": [
    "plt.plot(lrs,losses)\n",
    "plt.xscale('log')\n",
    "plt.yscale('log')\n",
    "#plt.ylim([0,100000])\n",
    "plt.show()"
   ]
  },
  {
   "cell_type": "markdown",
   "metadata": {},
   "source": [
    "### Training"
   ]
  },
  {
   "cell_type": "code",
   "execution_count": 176,
   "metadata": {},
   "outputs": [],
   "source": [
    "opt_func.param_groups[0]['lr'] = 1e-5"
   ]
  },
  {
   "cell_type": "code",
   "execution_count": 177,
   "metadata": {},
   "outputs": [
    {
     "name": "stdout",
     "output_type": "stream",
     "text": [
      "Epoch: 0    Train Loss: 3889773.4125000001    Val loss: 289189.3546875000\n",
      "Epoch: 1    Train Loss: 3888044.5406249999    Val loss: 289188.7000000000\n",
      "Epoch: 2    Train Loss: 3888044.2046874999    Val loss: 289188.7000000000\n",
      "Epoch: 3    Train Loss: 3888044.4156249999    Val loss: 289188.6984375000\n",
      "Epoch: 4    Train Loss: 3888044.1062500002    Val loss: 289188.5671875000\n",
      "Epoch: 5    Train Loss: 3888043.8296874999    Val loss: 289188.6296875000\n",
      "Epoch: 6    Train Loss: 3888044.2343750000    Val loss: 289188.6296875000\n",
      "Epoch: 7    Train Loss: 3888043.5874999999    Val loss: 289188.6296875000\n",
      "Epoch: 8    Train Loss: 3888044.0531250001    Val loss: 289188.6312500000\n",
      "Epoch: 9    Train Loss: 3888043.7578125000    Val loss: 289188.6953125000\n",
      "Epoch: 10    Train Loss: 3888043.8343750001    Val loss: 289188.6296875000\n",
      "Epoch: 11    Train Loss: 3888043.6890624999    Val loss: 289188.5671875000\n",
      "Epoch: 12    Train Loss: 3888043.9874999998    Val loss: 289188.6953125000\n"
     ]
    },
    {
     "ename": "KeyboardInterrupt",
     "evalue": "",
     "output_type": "error",
     "traceback": [
      "\u001b[0;31m---------------------------------------------------------------------------\u001b[0m",
      "\u001b[0;31mKeyboardInterrupt\u001b[0m                         Traceback (most recent call last)",
      "Cell \u001b[0;32mIn[177], line 20\u001b[0m\n\u001b[1;32m     17\u001b[0m opt_func\u001b[38;5;241m.\u001b[39mzero_grad()\n\u001b[1;32m     19\u001b[0m outputs \u001b[38;5;241m=\u001b[39m model(inputs)\n\u001b[0;32m---> 20\u001b[0m loss \u001b[38;5;241m=\u001b[39m \u001b[43mmse_loss_ode\u001b[49m\u001b[43m(\u001b[49m\u001b[43mmodel\u001b[49m\u001b[43m,\u001b[49m\u001b[43minputs\u001b[49m\u001b[43m,\u001b[49m\u001b[43mlabels\u001b[49m\u001b[43m)\u001b[49m\n\u001b[1;32m     21\u001b[0m loss\u001b[38;5;241m.\u001b[39mbackward()\n\u001b[1;32m     22\u001b[0m opt_func\u001b[38;5;241m.\u001b[39mstep()\n",
      "Cell \u001b[0;32mIn[172], line 5\u001b[0m, in \u001b[0;36mmse_loss_ode\u001b[0;34m(model, x_inp, targets)\u001b[0m\n\u001b[1;32m      2\u001b[0m y_out \u001b[38;5;241m=\u001b[39m model(x_inp)\n\u001b[1;32m      4\u001b[0m dy_out \u001b[38;5;241m=\u001b[39m torch\u001b[38;5;241m.\u001b[39mautograd\u001b[38;5;241m.\u001b[39mgrad(y_out,x_inp,grad_outputs\u001b[38;5;241m=\u001b[39mtorch\u001b[38;5;241m.\u001b[39mones_like(y_out),create_graph\u001b[38;5;241m=\u001b[39m\u001b[38;5;28;01mTrue\u001b[39;00m, allow_unused\u001b[38;5;241m=\u001b[39m\u001b[38;5;28;01mTrue\u001b[39;00m)[\u001b[38;5;241m0\u001b[39m]\n\u001b[0;32m----> 5\u001b[0m ddy_out \u001b[38;5;241m=\u001b[39m \u001b[43mtorch\u001b[49m\u001b[38;5;241;43m.\u001b[39;49m\u001b[43mautograd\u001b[49m\u001b[38;5;241;43m.\u001b[39;49m\u001b[43mgrad\u001b[49m\u001b[43m(\u001b[49m\u001b[43mdy_out\u001b[49m\u001b[43m,\u001b[49m\u001b[43mx_inp\u001b[49m\u001b[43m,\u001b[49m\u001b[43mgrad_outputs\u001b[49m\u001b[38;5;241;43m=\u001b[39;49m\u001b[43mtorch\u001b[49m\u001b[38;5;241;43m.\u001b[39;49m\u001b[43mones_like\u001b[49m\u001b[43m(\u001b[49m\u001b[43mdy_out\u001b[49m\u001b[43m)\u001b[49m\u001b[43m,\u001b[49m\u001b[43mcreate_graph\u001b[49m\u001b[38;5;241;43m=\u001b[39;49m\u001b[38;5;28;43;01mTrue\u001b[39;49;00m\u001b[43m,\u001b[49m\u001b[43m \u001b[49m\u001b[43mallow_unused\u001b[49m\u001b[38;5;241;43m=\u001b[39;49m\u001b[38;5;28;43;01mTrue\u001b[39;49;00m\u001b[43m)\u001b[49m[\u001b[38;5;241m0\u001b[39m]\n\u001b[1;32m      7\u001b[0m \u001b[38;5;66;03m# Equation of motion: (1-x^4)*(d^2f/dx^2 + 2/x*df/dx) + w^2*f - lmbd*(6*f**5 - 4*a*f**3 + 2*b*f) = 0\u001b[39;00m\n\u001b[1;32m      8\u001b[0m ODE \u001b[38;5;241m=\u001b[39m (\u001b[38;5;241m1\u001b[39m\u001b[38;5;241m-\u001b[39mx_inp\u001b[38;5;241m*\u001b[39m\u001b[38;5;241m*\u001b[39m\u001b[38;5;241m4\u001b[39m)\u001b[38;5;241m*\u001b[39m(ddy_out \u001b[38;5;241m+\u001b[39m \u001b[38;5;241m2\u001b[39m\u001b[38;5;241m/\u001b[39mx_inp\u001b[38;5;241m*\u001b[39mdy_out) \u001b[38;5;241m+\u001b[39m w\u001b[38;5;241m*\u001b[39m\u001b[38;5;241m*\u001b[39m\u001b[38;5;241m2\u001b[39m\u001b[38;5;241m*\u001b[39my_out \u001b[38;5;241m-\u001b[39m lmbd\u001b[38;5;241m*\u001b[39m(\u001b[38;5;241m6\u001b[39m\u001b[38;5;241m*\u001b[39my_out\u001b[38;5;241m*\u001b[39m\u001b[38;5;241m*\u001b[39m\u001b[38;5;241m5\u001b[39m \u001b[38;5;241m-\u001b[39m \u001b[38;5;241m4\u001b[39m\u001b[38;5;241m*\u001b[39ma\u001b[38;5;241m*\u001b[39my_out\u001b[38;5;241m*\u001b[39m\u001b[38;5;241m*\u001b[39m\u001b[38;5;241m3\u001b[39m \u001b[38;5;241m+\u001b[39m \u001b[38;5;241m2\u001b[39m\u001b[38;5;241m*\u001b[39mb\u001b[38;5;241m*\u001b[39my_out)\n",
      "File \u001b[0;32m~/Library/Python/3.9/lib/python/site-packages/torch/autograd/__init__.py:412\u001b[0m, in \u001b[0;36mgrad\u001b[0;34m(outputs, inputs, grad_outputs, retain_graph, create_graph, only_inputs, allow_unused, is_grads_batched, materialize_grads)\u001b[0m\n\u001b[1;32m    408\u001b[0m     result \u001b[38;5;241m=\u001b[39m _vmap_internals\u001b[38;5;241m.\u001b[39m_vmap(vjp, \u001b[38;5;241m0\u001b[39m, \u001b[38;5;241m0\u001b[39m, allow_none_pass_through\u001b[38;5;241m=\u001b[39m\u001b[38;5;28;01mTrue\u001b[39;00m)(\n\u001b[1;32m    409\u001b[0m         grad_outputs_\n\u001b[1;32m    410\u001b[0m     )\n\u001b[1;32m    411\u001b[0m \u001b[38;5;28;01melse\u001b[39;00m:\n\u001b[0;32m--> 412\u001b[0m     result \u001b[38;5;241m=\u001b[39m \u001b[43m_engine_run_backward\u001b[49m\u001b[43m(\u001b[49m\n\u001b[1;32m    413\u001b[0m \u001b[43m        \u001b[49m\u001b[43mt_outputs\u001b[49m\u001b[43m,\u001b[49m\n\u001b[1;32m    414\u001b[0m \u001b[43m        \u001b[49m\u001b[43mgrad_outputs_\u001b[49m\u001b[43m,\u001b[49m\n\u001b[1;32m    415\u001b[0m \u001b[43m        \u001b[49m\u001b[43mretain_graph\u001b[49m\u001b[43m,\u001b[49m\n\u001b[1;32m    416\u001b[0m \u001b[43m        \u001b[49m\u001b[43mcreate_graph\u001b[49m\u001b[43m,\u001b[49m\n\u001b[1;32m    417\u001b[0m \u001b[43m        \u001b[49m\u001b[43minputs\u001b[49m\u001b[43m,\u001b[49m\n\u001b[1;32m    418\u001b[0m \u001b[43m        \u001b[49m\u001b[43mallow_unused\u001b[49m\u001b[43m,\u001b[49m\n\u001b[1;32m    419\u001b[0m \u001b[43m        \u001b[49m\u001b[43maccumulate_grad\u001b[49m\u001b[38;5;241;43m=\u001b[39;49m\u001b[38;5;28;43;01mFalse\u001b[39;49;00m\u001b[43m,\u001b[49m\n\u001b[1;32m    420\u001b[0m \u001b[43m    \u001b[49m\u001b[43m)\u001b[49m\n\u001b[1;32m    421\u001b[0m \u001b[38;5;28;01mif\u001b[39;00m materialize_grads:\n\u001b[1;32m    422\u001b[0m     \u001b[38;5;28;01mif\u001b[39;00m \u001b[38;5;28many\u001b[39m(\n\u001b[1;32m    423\u001b[0m         result[i] \u001b[38;5;129;01mis\u001b[39;00m \u001b[38;5;28;01mNone\u001b[39;00m \u001b[38;5;129;01mand\u001b[39;00m \u001b[38;5;129;01mnot\u001b[39;00m is_tensor_like(inputs[i])\n\u001b[1;32m    424\u001b[0m         \u001b[38;5;28;01mfor\u001b[39;00m i \u001b[38;5;129;01min\u001b[39;00m \u001b[38;5;28mrange\u001b[39m(\u001b[38;5;28mlen\u001b[39m(inputs))\n\u001b[1;32m    425\u001b[0m     ):\n",
      "File \u001b[0;32m~/Library/Python/3.9/lib/python/site-packages/torch/autograd/graph.py:744\u001b[0m, in \u001b[0;36m_engine_run_backward\u001b[0;34m(t_outputs, *args, **kwargs)\u001b[0m\n\u001b[1;32m    742\u001b[0m     unregister_hooks \u001b[38;5;241m=\u001b[39m _register_logging_hooks_on_whole_graph(t_outputs)\n\u001b[1;32m    743\u001b[0m \u001b[38;5;28;01mtry\u001b[39;00m:\n\u001b[0;32m--> 744\u001b[0m     \u001b[38;5;28;01mreturn\u001b[39;00m \u001b[43mVariable\u001b[49m\u001b[38;5;241;43m.\u001b[39;49m\u001b[43m_execution_engine\u001b[49m\u001b[38;5;241;43m.\u001b[39;49m\u001b[43mrun_backward\u001b[49m\u001b[43m(\u001b[49m\u001b[43m  \u001b[49m\u001b[38;5;66;43;03m# Calls into the C++ engine to run the backward pass\u001b[39;49;00m\n\u001b[1;32m    745\u001b[0m \u001b[43m        \u001b[49m\u001b[43mt_outputs\u001b[49m\u001b[43m,\u001b[49m\u001b[43m \u001b[49m\u001b[38;5;241;43m*\u001b[39;49m\u001b[43margs\u001b[49m\u001b[43m,\u001b[49m\u001b[43m \u001b[49m\u001b[38;5;241;43m*\u001b[39;49m\u001b[38;5;241;43m*\u001b[39;49m\u001b[43mkwargs\u001b[49m\n\u001b[1;32m    746\u001b[0m \u001b[43m    \u001b[49m\u001b[43m)\u001b[49m  \u001b[38;5;66;03m# Calls into the C++ engine to run the backward pass\u001b[39;00m\n\u001b[1;32m    747\u001b[0m \u001b[38;5;28;01mfinally\u001b[39;00m:\n\u001b[1;32m    748\u001b[0m     \u001b[38;5;28;01mif\u001b[39;00m attach_logging_hooks:\n",
      "\u001b[0;31mKeyboardInterrupt\u001b[0m: "
     ]
    }
   ],
   "source": [
    "n_epochs = 30\n",
    "train_loss, val_loss = [], []\n",
    "\n",
    "for epoch in range(n_epochs):\n",
    "\n",
    "  # Training\n",
    "\n",
    "  train_loss_batch = 0.\n",
    "\n",
    "  model.train()\n",
    "  for inputs, labels in dl_train:\n",
    "    inputs = inputs.to(device)\n",
    "    labels = labels.to(device)\n",
    "\n",
    "    inputs.requires_grad = True\n",
    "\n",
    "    opt_func.zero_grad()\n",
    "\n",
    "    outputs = model(inputs)\n",
    "    loss = mse_loss_ode(model,inputs,labels)\n",
    "    loss.backward()\n",
    "    opt_func.step()\n",
    "\n",
    "    train_loss_batch += loss.item()\n",
    "\n",
    "  # Validation\n",
    "\n",
    "  val_loss_batch = 0.\n",
    "\n",
    "  model.eval()\n",
    "  for inputs, labels in dl_valid:\n",
    "    inputs = inputs.to(device)\n",
    "    labels = labels.to(device)\n",
    "\n",
    "    inputs.requires_grad = True\n",
    "\n",
    "    outputs = model(inputs)\n",
    "    loss = mse_loss_ode(model,inputs,labels)\n",
    "\n",
    "    val_loss_batch += loss.item()\n",
    "\n",
    "  train_loss.append(train_loss_batch/len(dl_train))\n",
    "  val_loss.append(val_loss_batch/len(dl_train))\n",
    "  print(\"Epoch: {}    Train Loss: {:.10f}    Val loss: {:.10f}\".format(epoch, train_loss[epoch], val_loss[epoch]))"
   ]
  },
  {
   "cell_type": "code",
   "execution_count": 178,
   "metadata": {},
   "outputs": [
    {
     "data": {
      "text/plain": [
       "1e-05"
      ]
     },
     "execution_count": 178,
     "metadata": {},
     "output_type": "execute_result"
    }
   ],
   "source": [
    "opt_func.param_groups[0]['lr']"
   ]
  },
  {
   "cell_type": "code",
   "execution_count": 144,
   "metadata": {},
   "outputs": [
    {
     "data": {
      "image/png": "[encoded data removed]",
      "text/plain": [
       "<Figure size 640x480 with 1 Axes>"
      ]
     },
     "metadata": {},
     "output_type": "display_data"
    }
   ],
   "source": [
    "plt.plot(range(n_epochs),train_loss,label='Training Loss')\n",
    "plt.plot(range(n_epochs),val_loss,label='Validation Loss')\n",
    "plt.yscale('log')\n",
    "plt.legend()\n",
    "plt.show()"
   ]
  },
  {
   "cell_type": "code",
   "execution_count": 179,
   "metadata": {},
   "outputs": [],
   "source": [
    "y_out = model(inputs)\n",
    "\n",
    "dy_out = torch.autograd.grad(y_out,inputs,grad_outputs=torch.ones_like(y_out),create_graph=True, allow_unused=True)[0]\n",
    "ddy_out = torch.autograd.grad(dy_out,inputs,grad_outputs=torch.ones_like(dy_out),create_graph=True, allow_unused=True)[0]"
   ]
  },
  {
   "cell_type": "code",
   "execution_count": 183,
   "metadata": {},
   "outputs": [
    {
     "data": {
      "text/plain": [
       "tensor(-3.2491, device='mps:0', grad_fn=<MeanBackward0>)"
      ]
     },
     "execution_count": 183,
     "metadata": {},
     "output_type": "execute_result"
    }
   ],
   "source": [
    "ddy_out.mean()"
   ]
  },
  {
   "cell_type": "code",
   "execution_count": null,
   "metadata": {},
   "outputs": [],
   "source": []
  }
 ],
 "metadata": {
  "kernelspec": {
   "display_name": "Python 3",
   "language": "python",
   "name": "python3"
  },
  "language_info": {
   "codemirror_mode": {
    "name": "ipython",
    "version": 3
   },
   "file_extension": ".py",
   "mimetype": "text/x-python",
   "name": "python",
   "nbconvert_exporter": "python",
   "pygments_lexer": "ipython3",
   "version": "3.9.6"
  }
 },
 "nbformat": 4,
 "nbformat_minor": 2
}
