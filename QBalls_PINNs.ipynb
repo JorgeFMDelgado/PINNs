{
 "cells": [
  {
   "cell_type": "markdown",
   "metadata": {},
   "source": [
    "# Static Q-Balls\n",
    "#### Computation with FastAI\n",
    "\n",
    "Self-gravitating complex scalar field in flat spacetime with a self-interacting potential, $U(\\Psi) = \\lambda \\left( \\Psi^6 - a \\Psi^4 + b \\Psi^2 \\right)$.\n",
    "\n",
    "*Ansatz*: $\\Psi = f(r)e^{i \\omega t}$\n",
    "\n",
    "*Equation of Motion*: $f'' + \\dfrac{2}{r} f' + \\omega^2 f - \\lambda \\left( 6 f^5 - 4 a f^3 + 2 b f \\right) = 0$ with $f'(0) = 0$\n",
    "\n",
    "*Contants of the problem*: $\\lambda = 1~,~~a = 2~,~~b = 1.1$"
   ]
  },
  {
   "cell_type": "markdown",
   "metadata": {},
   "source": [
    "##### Import packages"
   ]
  },
  {
   "cell_type": "code",
   "execution_count": 3,
   "metadata": {},
   "outputs": [],
   "source": [
    "import torch as torch\n",
    "import torch.utils.data as D\n",
    "import torch.nn as nn\n",
    "import torch.nn.functional as F\n",
    "import numpy as np\n",
    "import matplotlib.pyplot as plt"
   ]
  },
  {
   "cell_type": "markdown",
   "metadata": {},
   "source": [
    "##### Select device"
   ]
  },
  {
   "cell_type": "code",
   "execution_count": 4,
   "metadata": {},
   "outputs": [
    {
     "data": {
      "text/plain": [
       "device(type='mps')"
      ]
     },
     "execution_count": 4,
     "metadata": {},
     "output_type": "execute_result"
    }
   ],
   "source": [
    "device = torch.device('mps') if torch.backends.mps.is_available() else torch.device('cpu')\n",
    "device"
   ]
  },
  {
   "cell_type": "markdown",
   "metadata": {},
   "source": [
    "### Configuration of the problem"
   ]
  },
  {
   "cell_type": "code",
   "execution_count": 5,
   "metadata": {},
   "outputs": [],
   "source": [
    "# contants of the problem\n",
    "lmbd = 1\n",
    "a = 2\n",
    "b = 1.1\n",
    "\n",
    "# Number of radial points\n",
    "nPoints = 10000\n",
    "\n",
    "# Number of validation points\n",
    "nValid = 2000\n",
    "\n",
    "# Number of training points\n",
    "nTrain = nPoints-nValid"
   ]
  },
  {
   "cell_type": "markdown",
   "metadata": {},
   "source": [
    "### Preparation of dataset and dataloaders"
   ]
  },
  {
   "cell_type": "code",
   "execution_count": 6,
   "metadata": {},
   "outputs": [],
   "source": [
    "# Independent variable\n",
    "r_data = torch.rand(nPoints,device=device)\n",
    "\n",
    "# Output of the Neural Network\n",
    "f_data = torch.zeros_like(r_data)"
   ]
  },
  {
   "cell_type": "code",
   "execution_count": 7,
   "metadata": {},
   "outputs": [],
   "source": [
    "# Dataset with all data\n",
    "dset_data = D.TensorDataset(r_data,f_data)"
   ]
  },
  {
   "cell_type": "code",
   "execution_count": 8,
   "metadata": {},
   "outputs": [],
   "source": [
    "# Random Split of the dataset with all data into two for training and validation\n",
    "dset_train, dset_valid = D.random_split(dset_data,[nTrain,nValid])"
   ]
  },
  {
   "cell_type": "code",
   "execution_count": 9,
   "metadata": {},
   "outputs": [],
   "source": [
    "# Initializing the dataloaders for the train and valid sets\n",
    "dl_train = D.DataLoader(dset_train,batch_size=100,shuffle=True)\n",
    "dl_valid = D.DataLoader(dset_valid,batch_size=100,shuffle=False)"
   ]
  },
  {
   "cell_type": "markdown",
   "metadata": {},
   "source": [
    "### Model"
   ]
  },
  {
   "cell_type": "code",
   "execution_count": 10,
   "metadata": {},
   "outputs": [],
   "source": [
    "class Simple_net(torch.nn.Module):\n",
    "  def __init__(self):\n",
    "    super(Simple_net,self).__init__()\n",
    "    self.fc1 = nn.Linear(1,100)\n",
    "    self.fc2 = nn.Linear(100,500)\n",
    "    self.fc3 = nn.Linear(500,1000)\n",
    "    self.fc4 = nn.Linear(1000,1)\n",
    "\n",
    "  def forward(self,x):\n",
    "    x = F.gelu(self.fc1(x))\n",
    "    x = F.gelu(self.fc2(x))\n",
    "    x = F.gelu(self.fc3(x))\n",
    "    x = self.fc4(x)\n",
    "    return x\n",
    "\n",
    "  def reset_weights(self):\n",
    "    torch.nn.init.kaiming_uniform_(self.fc1.weight)\n",
    "    torch.nn.init.kaiming_uniform_(self.fc2.weight)\n",
    "    torch.nn.init.kaiming_uniform_(self.fc3.weight)\n",
    "    torch.nn.init.kaiming_uniform_(self.fc4.weight)"
   ]
  },
  {
   "cell_type": "code",
   "execution_count": 11,
   "metadata": {},
   "outputs": [
    {
     "data": {
      "text/plain": [
       "Simple_net(\n",
       "  (fc1): Linear(in_features=1, out_features=100, bias=True)\n",
       "  (fc2): Linear(in_features=100, out_features=500, bias=True)\n",
       "  (fc3): Linear(in_features=500, out_features=1000, bias=True)\n",
       "  (fc4): Linear(in_features=1000, out_features=1, bias=True)\n",
       ")"
      ]
     },
     "execution_count": 11,
     "metadata": {},
     "output_type": "execute_result"
    }
   ],
   "source": [
    "model = Simple_net()\n",
    "model.to(device)"
   ]
  },
  {
   "cell_type": "code",
   "execution_count": null,
   "metadata": {},
   "outputs": [],
   "source": []
  }
 ],
 "metadata": {
  "kernelspec": {
   "display_name": "Python 3",
   "language": "python",
   "name": "python3"
  },
  "language_info": {
   "codemirror_mode": {
    "name": "ipython",
    "version": 3
   },
   "file_extension": ".py",
   "mimetype": "text/x-python",
   "name": "python",
   "nbconvert_exporter": "python",
   "pygments_lexer": "ipython3",
   "version": "3.9.6"
  }
 },
 "nbformat": 4,
 "nbformat_minor": 2
}
