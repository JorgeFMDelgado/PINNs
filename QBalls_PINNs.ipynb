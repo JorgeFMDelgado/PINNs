{
 "cells": [
  {
   "cell_type": "markdown",
   "metadata": {},
   "source": [
    "# Static Q-Balls\n",
    "#### Computation with FastAI\n",
    "\n",
    "Self-gravitating complex scalar field in flat spacetime with a self-interacting potential, $U(\\Psi) = \\lambda \\left( \\Psi^6 - a \\Psi^4 + b \\Psi^2 \\right)$.\n",
    "\n",
    "*Ansatz*: $\\Psi = f(r)e^{i \\omega t}$\n",
    "\n",
    "*Equation of Motion*: $$f'' + \\dfrac{2}{r} f' + \\omega^2 f - \\lambda \\left( 6 f^5 - 4 a f^3 + 2 b f \\right) = 0 ~,$$ with $f'(0) = 0$ and $f(\\infty) = 0$.\n",
    "\n",
    "*Equation of Motion in compactified coordinate*: $$(1-x)^4 \\left( x \\dfrac{d^2 f}{dx^2} - 2 \\dfrac{df}{dx} \\right) + x \\omega^2 f - x \\lambda \\left( 6 f^5 - 4 a f^3 + 2 b f \\right) = 0 ~,$$ with $f'(0) = 0$ and $f(1) = 0$.\n",
    "\n",
    "*Contants of the problem*: $\\lambda = 1~,~~a = 2~,~~b = 1.1$"
   ]
  },
  {
   "cell_type": "markdown",
   "metadata": {},
   "source": [
    "##### Import packages"
   ]
  },
  {
   "cell_type": "code",
   "execution_count": 1,
   "metadata": {},
   "outputs": [],
   "source": [
    "import torch as torch\n",
    "import torch.utils.data as D\n",
    "import torch.nn as nn\n",
    "import torch.nn.functional as F\n",
    "import numpy as np\n",
    "import matplotlib.pyplot as plt"
   ]
  },
  {
   "cell_type": "markdown",
   "metadata": {},
   "source": [
    "##### Select device"
   ]
  },
  {
   "cell_type": "code",
   "execution_count": 2,
   "metadata": {},
   "outputs": [
    {
     "data": {
      "text/plain": [
       "device(type='mps')"
      ]
     },
     "execution_count": 2,
     "metadata": {},
     "output_type": "execute_result"
    }
   ],
   "source": [
    "device = torch.device('mps') if torch.backends.mps.is_available() else torch.device('cpu')\n",
    "device"
   ]
  },
  {
   "cell_type": "markdown",
   "metadata": {},
   "source": [
    "### Configuration of the problem"
   ]
  },
  {
   "cell_type": "code",
   "execution_count": 57,
   "metadata": {},
   "outputs": [],
   "source": [
    "# contants of the problem\n",
    "lmbd = 1\n",
    "a = 2\n",
    "b = 1.1\n",
    "w = 0.9\n",
    "\n",
    "# Number of radial points\n",
    "nPoints = 10000\n",
    "\n",
    "# Number of validation points\n",
    "nValid = 2000\n",
    "\n",
    "# Number of training points\n",
    "nTrain = nPoints-nValid"
   ]
  },
  {
   "cell_type": "markdown",
   "metadata": {},
   "source": [
    "### Preparation of dataset and dataloaders"
   ]
  },
  {
   "cell_type": "code",
   "execution_count": 58,
   "metadata": {},
   "outputs": [],
   "source": [
    "# Independent variable\n",
    "x_data = torch.rand(nPoints,device=device).view(-1,1)\n",
    "\n",
    "# Targets\n",
    "# Since we define our loss as the equation of motion, the targets are all zeros\n",
    "f_data = torch.zeros_like(x_data)"
   ]
  },
  {
   "cell_type": "code",
   "execution_count": 59,
   "metadata": {},
   "outputs": [],
   "source": [
    "# Dataset with all data\n",
    "dset_data = D.TensorDataset(x_data,f_data)"
   ]
  },
  {
   "cell_type": "code",
   "execution_count": 60,
   "metadata": {},
   "outputs": [],
   "source": [
    "# Random Split of the dataset with all data into two for training and validation\n",
    "dset_train, dset_valid = D.random_split(dset_data,[nTrain,nValid])"
   ]
  },
  {
   "cell_type": "code",
   "execution_count": 61,
   "metadata": {},
   "outputs": [],
   "source": [
    "# Initializing the dataloaders for the train and valid sets\n",
    "dl_train = D.DataLoader(dset_train,batch_size=1000,shuffle=True)\n",
    "dl_valid = D.DataLoader(dset_valid,batch_size=1000,shuffle=False)"
   ]
  },
  {
   "cell_type": "markdown",
   "metadata": {},
   "source": [
    "### Model"
   ]
  },
  {
   "cell_type": "code",
   "execution_count": 62,
   "metadata": {},
   "outputs": [],
   "source": [
    "class Simple_net(torch.nn.Module):\n",
    "  def __init__(self):\n",
    "    super(Simple_net,self).__init__()\n",
    "    self.fc1 = nn.Linear(1,100)\n",
    "    self.fc2 = nn.Linear(100,500)\n",
    "    self.fc3 = nn.Linear(500,1000)\n",
    "    self.fc4 = nn.Linear(1000,1)\n",
    "\n",
    "  def forward(self,x):\n",
    "    x = F.gelu(self.fc1(x))\n",
    "    x = F.gelu(self.fc2(x))\n",
    "    x = F.gelu(self.fc3(x))\n",
    "    x = self.fc4(x)\n",
    "    return x\n",
    "\n",
    "  def reset_weights(self):\n",
    "    torch.nn.init.kaiming_uniform_(self.fc1.weight)\n",
    "    torch.nn.init.kaiming_uniform_(self.fc2.weight)\n",
    "    torch.nn.init.kaiming_uniform_(self.fc3.weight)\n",
    "    torch.nn.init.kaiming_uniform_(self.fc4.weight)"
   ]
  },
  {
   "cell_type": "code",
   "execution_count": 63,
   "metadata": {},
   "outputs": [
    {
     "data": {
      "text/plain": [
       "Simple_net(\n",
       "  (fc1): Linear(in_features=1, out_features=100, bias=True)\n",
       "  (fc2): Linear(in_features=100, out_features=500, bias=True)\n",
       "  (fc3): Linear(in_features=500, out_features=1000, bias=True)\n",
       "  (fc4): Linear(in_features=1000, out_features=1, bias=True)\n",
       ")"
      ]
     },
     "execution_count": 63,
     "metadata": {},
     "output_type": "execute_result"
    }
   ],
   "source": [
    "model = Simple_net()\n",
    "model.to(device)"
   ]
  },
  {
   "cell_type": "markdown",
   "metadata": {},
   "source": [
    "### Loss Function"
   ]
  },
  {
   "cell_type": "code",
   "execution_count": 64,
   "metadata": {},
   "outputs": [],
   "source": [
    "def mse_loss_ode(model,x_inp,targets):\n",
    "  y_out = model(x_inp)\n",
    "\n",
    "  dy_out = torch.autograd.grad(y_out,x_inp,grad_outputs=torch.ones_like(y_out),create_graph=True, allow_unused=True)[0]\n",
    "  ddy_out = torch.autograd.grad(dy_out,x_inp,grad_outputs=torch.ones_like(dy_out),create_graph=True, allow_unused=True)[0]\n",
    "\n",
    "  # Equation of motion: (1-x^4)*(x*d^2f/dx^2 + 2*df/dx) + x*w^2*f - x*lmbd*(6*f**5 - 4*a*f**3 + 2*b*f) = 0\n",
    "  ODE = (1-x_inp**4)*(x_inp*ddy_out + 2*dy_out) + x_inp*w**2*y_out - x_inp*lmbd*(6*y_out**5 - 4*a*y_out**3 + 2*b*y_out)\n",
    "  \n",
    "  # Boundary condition f'(0) = 0\n",
    "  x_Boundary_0 = torch.tensor([0.0001],device=device)\n",
    "  x_Boundary_0.requires_grad = True\n",
    "  y_Boundary_0 = model(x_Boundary_0)\n",
    "  dy_Boundary_0 = torch.autograd.grad(y_Boundary_0,x_Boundary_0,grad_outputs=torch.ones_like(y_Boundary_0),create_graph=True, allow_unused=True)[0]\n",
    "  BC1 = dy_Boundary_0\n",
    "  \n",
    "  # Boundary condition f(1) = 0\n",
    "  x_Boundary_1 = torch.tensor([1.],device=device)\n",
    "  y_Boundary_1 = model(x_Boundary_1)\n",
    "  BC2 = y_Boundary_1\n",
    "  \n",
    "  # Full loss function\n",
    "  CoefBoundary = 0.01\n",
    "  LossFunction = ODE + CoefBoundary*(BC1 + BC2)\n",
    "  \n",
    "  # Computation of the loss\n",
    "  loss = F.mse_loss(LossFunction,targets)\n",
    "\n",
    "  return loss"
   ]
  },
  {
   "cell_type": "markdown",
   "metadata": {},
   "source": [
    "### Optimizer"
   ]
  },
  {
   "cell_type": "code",
   "execution_count": 65,
   "metadata": {},
   "outputs": [],
   "source": [
    "opt_func = torch.optim.Adam(model.parameters())\n",
    "gamma_batches = 10**(6/len(dl_train))  # Optimal gamma value for the Scheduler that will be use on the LRFinder\n",
    "scheduler = torch.optim.lr_scheduler.ExponentialLR(opt_func, gamma=gamma_batches)"
   ]
  },
  {
   "cell_type": "markdown",
   "metadata": {},
   "source": [
    "### Learning Rate Finder"
   ]
  },
  {
   "cell_type": "code",
   "execution_count": 66,
   "metadata": {},
   "outputs": [],
   "source": [
    "losses, lrs = [],[]\n",
    "opt_func.param_groups[0]['lr'] = 1e-6\n",
    "\n",
    "model.train()\n",
    "for inputs, labels in dl_train:\n",
    "  inputs = inputs.to(device)\n",
    "  labels = labels.to(device)\n",
    "\n",
    "  inputs.requires_grad = True\n",
    "\n",
    "  opt_func.zero_grad()\n",
    "\n",
    "  outputs = model(inputs)\n",
    "  loss = mse_loss_ode(model,inputs,labels)\n",
    "  loss.backward()\n",
    "  opt_func.step()\n",
    "\n",
    "  losses.append(loss.item())\n",
    "\n",
    "  #opt_func.param_groups[0]['lr'] *= 1.2\n",
    "  scheduler.step()\n",
    "  lrs.append(opt_func.param_groups[0]['lr'])\n",
    "\n",
    "  if opt_func.param_groups[0]['lr']>1 or torch.isnan(loss): break\n",
    "\n",
    "model.reset_weights()"
   ]
  },
  {
   "cell_type": "code",
   "execution_count": 67,
   "metadata": {},
   "outputs": [
    {
     "name": "stderr",
     "output_type": "stream",
     "text": [
      "/var/folders/77/23r18kr12290_w0wtd7r_b9c0000gn/T/ipykernel_2340/3284743627.py:4: UserWarning: Attempt to set non-positive ylim on a log-scaled axis will be ignored.\n",
      "  plt.ylim([0,10])\n"
     ]
    },
    {
     "data": {
      "image/png": "[encoded data removed]",
      "text/plain": [
       "<Figure size 640x480 with 1 Axes>"
      ]
     },
     "metadata": {},
     "output_type": "display_data"
    }
   ],
   "source": [
    "plt.plot(lrs,losses)\n",
    "plt.xscale('log')\n",
    "plt.yscale('log')\n",
    "plt.ylim([0,10])\n",
    "plt.show()"
   ]
  },
  {
   "cell_type": "markdown",
   "metadata": {},
   "source": [
    "### Training"
   ]
  },
  {
   "cell_type": "code",
   "execution_count": 79,
   "metadata": {},
   "outputs": [],
   "source": [
    "opt_func.param_groups[0]['lr'] = 5e-4"
   ]
  },
  {
   "cell_type": "code",
   "execution_count": 80,
   "metadata": {},
   "outputs": [
    {
     "name": "stdout",
     "output_type": "stream",
     "text": [
      "Epoch: 0    Train Loss: 0.0019571489    Val loss: 0.0004784156\n",
      "Epoch: 1    Train Loss: 0.0019459119    Val loss: 0.0004755897\n",
      "Epoch: 2    Train Loss: 0.0019266287    Val loss: 0.0004814570\n",
      "Epoch: 3    Train Loss: 0.0019457100    Val loss: 0.0004856810\n",
      "Epoch: 4    Train Loss: 0.0019130819    Val loss: 0.0004688268\n",
      "Epoch: 5    Train Loss: 0.0019018319    Val loss: 0.0004643253\n",
      "Epoch: 6    Train Loss: 0.0018837537    Val loss: 0.0004582226\n",
      "Epoch: 7    Train Loss: 0.0018733613    Val loss: 0.0004609918\n",
      "Epoch: 8    Train Loss: 0.0018533986    Val loss: 0.0004643698\n",
      "Epoch: 9    Train Loss: 0.0018561132    Val loss: 0.0004818042\n",
      "Epoch: 10    Train Loss: 0.0019053993    Val loss: 0.0004525325\n",
      "Epoch: 11    Train Loss: 0.0019823436    Val loss: 0.0004492801\n",
      "Epoch: 12    Train Loss: 0.0020076813    Val loss: 0.0004457016\n",
      "Epoch: 13    Train Loss: 0.0020906565    Val loss: 0.0004410037\n",
      "Epoch: 14    Train Loss: 0.0019407173    Val loss: 0.0004345112\n",
      "Epoch: 15    Train Loss: 0.0018740017    Val loss: 0.0004304085\n",
      "Epoch: 16    Train Loss: 0.0018701848    Val loss: 0.0004301289\n",
      "Epoch: 17    Train Loss: 0.0017778655    Val loss: 0.0004252162\n",
      "Epoch: 18    Train Loss: 0.0017438845    Val loss: 0.0004299655\n",
      "Epoch: 19    Train Loss: 0.0017165962    Val loss: 0.0004181230\n",
      "Epoch: 20    Train Loss: 0.0017010706    Val loss: 0.0004430541\n",
      "Epoch: 21    Train Loss: 0.0017319157    Val loss: 0.0004431122\n",
      "Epoch: 22    Train Loss: 0.0018092625    Val loss: 0.0004073862\n",
      "Epoch: 23    Train Loss: 0.0016917729    Val loss: 0.0004055546\n",
      "Epoch: 24    Train Loss: 0.0016569943    Val loss: 0.0004124649\n",
      "Epoch: 25    Train Loss: 0.0016518588    Val loss: 0.0004045229\n",
      "Epoch: 26    Train Loss: 0.0016331389    Val loss: 0.0004030698\n",
      "Epoch: 27    Train Loss: 0.0016217889    Val loss: 0.0003944503\n",
      "Epoch: 28    Train Loss: 0.0016355414    Val loss: 0.0004062913\n",
      "Epoch: 29    Train Loss: 0.0016539331    Val loss: 0.0004283563\n",
      "Epoch: 30    Train Loss: 0.0016175669    Val loss: 0.0003885484\n",
      "Epoch: 31    Train Loss: 0.0016072384    Val loss: 0.0003863598\n",
      "Epoch: 32    Train Loss: 0.0016028236    Val loss: 0.0003957174\n",
      "Epoch: 33    Train Loss: 0.0015650831    Val loss: 0.0003815521\n",
      "Epoch: 34    Train Loss: 0.0015525765    Val loss: 0.0003773355\n",
      "Epoch: 35    Train Loss: 0.0015462307    Val loss: 0.0003816233\n",
      "Epoch: 36    Train Loss: 0.0015613379    Val loss: 0.0003844871\n",
      "Epoch: 37    Train Loss: 0.0015541563    Val loss: 0.0003847389\n",
      "Epoch: 38    Train Loss: 0.0015290825    Val loss: 0.0003680850\n",
      "Epoch: 39    Train Loss: 0.0015029099    Val loss: 0.0003674609\n",
      "Epoch: 40    Train Loss: 0.0014828738    Val loss: 0.0003634845\n",
      "Epoch: 41    Train Loss: 0.0014960032    Val loss: 0.0003677489\n",
      "Epoch: 42    Train Loss: 0.0015152485    Val loss: 0.0003588130\n",
      "Epoch: 43    Train Loss: 0.0014906140    Val loss: 0.0003681653\n",
      "Epoch: 44    Train Loss: 0.0014588769    Val loss: 0.0003553147\n",
      "Epoch: 45    Train Loss: 0.0014434030    Val loss: 0.0003533700\n",
      "Epoch: 46    Train Loss: 0.0014332656    Val loss: 0.0003588350\n",
      "Epoch: 47    Train Loss: 0.0014276818    Val loss: 0.0003545290\n",
      "Epoch: 48    Train Loss: 0.0014131758    Val loss: 0.0003474961\n",
      "Epoch: 49    Train Loss: 0.0014116540    Val loss: 0.0003457498\n",
      "Epoch: 50    Train Loss: 0.0014085655    Val loss: 0.0003530334\n",
      "Epoch: 51    Train Loss: 0.0014047580    Val loss: 0.0003407030\n",
      "Epoch: 52    Train Loss: 0.0013956828    Val loss: 0.0003483011\n",
      "Epoch: 53    Train Loss: 0.0013898348    Val loss: 0.0003424771\n",
      "Epoch: 54    Train Loss: 0.0013914444    Val loss: 0.0003580325\n",
      "Epoch: 55    Train Loss: 0.0013985823    Val loss: 0.0003339898\n",
      "Epoch: 56    Train Loss: 0.0013685366    Val loss: 0.0003307588\n",
      "Epoch: 57    Train Loss: 0.0013634332    Val loss: 0.0003387804\n",
      "Epoch: 58    Train Loss: 0.0013472461    Val loss: 0.0003266837\n",
      "Epoch: 59    Train Loss: 0.0013294512    Val loss: 0.0003317659\n",
      "Epoch: 60    Train Loss: 0.0013236428    Val loss: 0.0003242798\n",
      "Epoch: 61    Train Loss: 0.0013086038    Val loss: 0.0003248944\n",
      "Epoch: 62    Train Loss: 0.0013262931    Val loss: 0.0003302117\n",
      "Epoch: 63    Train Loss: 0.0013303642    Val loss: 0.0003249319\n",
      "Epoch: 64    Train Loss: 0.0013107866    Val loss: 0.0003237222\n",
      "Epoch: 65    Train Loss: 0.0012855910    Val loss: 0.0003181972\n",
      "Epoch: 66    Train Loss: 0.0012787588    Val loss: 0.0003201176\n",
      "Epoch: 67    Train Loss: 0.0012891039    Val loss: 0.0003119591\n",
      "Epoch: 68    Train Loss: 0.0012770987    Val loss: 0.0003137634\n",
      "Epoch: 69    Train Loss: 0.0012660991    Val loss: 0.0003146824\n",
      "Epoch: 70    Train Loss: 0.0012510539    Val loss: 0.0003054230\n",
      "Epoch: 71    Train Loss: 0.0012464633    Val loss: 0.0003076345\n",
      "Epoch: 72    Train Loss: 0.0012402889    Val loss: 0.0003024062\n",
      "Epoch: 73    Train Loss: 0.0012221167    Val loss: 0.0003002108\n",
      "Epoch: 74    Train Loss: 0.0012181277    Val loss: 0.0003010511\n",
      "Epoch: 75    Train Loss: 0.0012197945    Val loss: 0.0002991090\n",
      "Epoch: 76    Train Loss: 0.0012214940    Val loss: 0.0002962229\n",
      "Epoch: 77    Train Loss: 0.0012232452    Val loss: 0.0003008681\n",
      "Epoch: 78    Train Loss: 0.0012283674    Val loss: 0.0002977903\n",
      "Epoch: 79    Train Loss: 0.0011984229    Val loss: 0.0002971771\n",
      "Epoch: 80    Train Loss: 0.0011996911    Val loss: 0.0003000190\n",
      "Epoch: 81    Train Loss: 0.0012095972    Val loss: 0.0002914579\n",
      "Epoch: 82    Train Loss: 0.0011810680    Val loss: 0.0002891679\n",
      "Epoch: 83    Train Loss: 0.0011985831    Val loss: 0.0002849573\n",
      "Epoch: 84    Train Loss: 0.0011719078    Val loss: 0.0002842097\n",
      "Epoch: 85    Train Loss: 0.0011465420    Val loss: 0.0002822197\n",
      "Epoch: 86    Train Loss: 0.0011467504    Val loss: 0.0002807780\n",
      "Epoch: 87    Train Loss: 0.0011441403    Val loss: 0.0002816608\n",
      "Epoch: 88    Train Loss: 0.0011517385    Val loss: 0.0002933753\n",
      "Epoch: 89    Train Loss: 0.0011598841    Val loss: 0.0002768585\n",
      "Epoch: 90    Train Loss: 0.0011554175    Val loss: 0.0002876654\n",
      "Epoch: 91    Train Loss: 0.0011347730    Val loss: 0.0002740164\n",
      "Epoch: 92    Train Loss: 0.0011059850    Val loss: 0.0002719951\n",
      "Epoch: 93    Train Loss: 0.0011028722    Val loss: 0.0002884110\n",
      "Epoch: 94    Train Loss: 0.0011161705    Val loss: 0.0002792354\n",
      "Epoch: 95    Train Loss: 0.0011023836    Val loss: 0.0002693841\n",
      "Epoch: 96    Train Loss: 0.0011136346    Val loss: 0.0002661595\n",
      "Epoch: 97    Train Loss: 0.0010758418    Val loss: 0.0002648942\n",
      "Epoch: 98    Train Loss: 0.0011009122    Val loss: 0.0002649366\n",
      "Epoch: 99    Train Loss: 0.0010705004    Val loss: 0.0002635792\n"
     ]
    }
   ],
   "source": [
    "n_epochs = 100\n",
    "train_loss, val_loss = [], []\n",
    "\n",
    "for epoch in range(n_epochs):\n",
    "\n",
    "  # Training\n",
    "\n",
    "  train_loss_batch = 0.\n",
    "\n",
    "  model.train()\n",
    "  for inputs, labels in dl_train:\n",
    "    inputs = inputs.to(device)\n",
    "    labels = labels.to(device)\n",
    "\n",
    "    inputs.requires_grad = True\n",
    "\n",
    "    opt_func.zero_grad()\n",
    "\n",
    "    outputs = model(inputs)\n",
    "    loss = mse_loss_ode(model,inputs,labels)\n",
    "    loss.backward()\n",
    "    opt_func.step()\n",
    "\n",
    "    train_loss_batch += loss.item()\n",
    "\n",
    "  # Validation\n",
    "\n",
    "  val_loss_batch = 0.\n",
    "\n",
    "  model.eval()\n",
    "  for inputs, labels in dl_valid:\n",
    "    inputs = inputs.to(device)\n",
    "    labels = labels.to(device)\n",
    "\n",
    "    inputs.requires_grad = True\n",
    "\n",
    "    outputs = model(inputs)\n",
    "    loss = mse_loss_ode(model,inputs,labels)\n",
    "\n",
    "    val_loss_batch += loss.item()\n",
    "\n",
    "  train_loss.append(train_loss_batch/len(dl_train))\n",
    "  val_loss.append(val_loss_batch/len(dl_train))\n",
    "  print(\"Epoch: {}    Train Loss: {:.10f}    Val loss: {:.10f}\".format(epoch, train_loss[epoch], val_loss[epoch]))"
   ]
  },
  {
   "cell_type": "code",
   "execution_count": 18,
   "metadata": {},
   "outputs": [
    {
     "data": {
      "text/plain": [
       "0.001"
      ]
     },
     "execution_count": 18,
     "metadata": {},
     "output_type": "execute_result"
    }
   ],
   "source": [
    "opt_func.param_groups[0]['lr']"
   ]
  },
  {
   "cell_type": "code",
   "execution_count": 81,
   "metadata": {},
   "outputs": [
    {
     "data": {
      "image/png": "[encoded data removed]",
      "text/plain": [
       "<Figure size 640x480 with 1 Axes>"
      ]
     },
     "metadata": {},
     "output_type": "display_data"
    }
   ],
   "source": [
    "plt.plot(range(n_epochs),train_loss,label='Training Loss')\n",
    "plt.plot(range(n_epochs),val_loss,label='Validation Loss')\n",
    "plt.yscale('log')\n",
    "plt.legend()\n",
    "plt.show()"
   ]
  },
  {
   "cell_type": "code",
   "execution_count": 89,
   "metadata": {},
   "outputs": [],
   "source": [
    "x_lin = torch.linspace(0,1,300,device=device).view(-1,1)\n",
    "f_lin = model(x_lin).detach().cpu()\n",
    "\n",
    "x_lin = x_lin.cpu()\n"
   ]
  },
  {
   "cell_type": "code",
   "execution_count": 90,
   "metadata": {},
   "outputs": [
    {
     "data": {
      "text/plain": [
       "[<matplotlib.lines.Line2D at 0x32d57bc40>]"
      ]
     },
     "execution_count": 90,
     "metadata": {},
     "output_type": "execute_result"
    },
    {
     "data": {
      "image/png": "[encoded data removed]",
      "text/plain": [
       "<Figure size 640x480 with 1 Axes>"
      ]
     },
     "metadata": {},
     "output_type": "display_data"
    }
   ],
   "source": [
    "plt.plot(x_lin,f_lin)"
   ]
  },
  {
   "cell_type": "code",
   "execution_count": null,
   "metadata": {},
   "outputs": [],
   "source": []
  },
  {
   "cell_type": "code",
   "execution_count": null,
   "metadata": {},
   "outputs": [],
   "source": []
  }
 ],
 "metadata": {
  "kernelspec": {
   "display_name": "Python 3",
   "language": "python",
   "name": "python3"
  },
  "language_info": {
   "codemirror_mode": {
    "name": "ipython",
    "version": 3
   },
   "file_extension": ".py",
   "mimetype": "text/x-python",
   "name": "python",
   "nbconvert_exporter": "python",
   "pygments_lexer": "ipython3",
   "version": "3.9.6"
  }
 },
 "nbformat": 4,
 "nbformat_minor": 2
}
